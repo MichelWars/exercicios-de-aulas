{
  "nbformat": 4,
  "nbformat_minor": 0,
  "metadata": {
    "colab": {
      "provenance": [],
      "authorship_tag": "ABX9TyPaN3kAsZG+NPBMnhumeQx/",
      "include_colab_link": true
    },
    "kernelspec": {
      "name": "python3",
      "display_name": "Python 3"
    },
    "language_info": {
      "name": "python"
    }
  },
  "cells": [
    {
      "cell_type": "markdown",
      "metadata": {
        "id": "view-in-github",
        "colab_type": "text"
      },
      "source": [
        "<a href=\"https://colab.research.google.com/github/MichelWars/exercicios-de-aulas/blob/main/pythondados.ipynb\" target=\"_parent\"><img src=\"https://colab.research.google.com/assets/colab-badge.svg\" alt=\"Open In Colab\"/></a>"
      ]
    },
    {
      "cell_type": "code",
      "execution_count": null,
      "metadata": {
        "colab": {
          "base_uri": "https://localhost:8080/"
        },
        "id": "RSaXIRP1yeHP",
        "outputId": "b01c1680-f506-4045-d6db-7656e9604ac8"
      },
      "outputs": [
        {
          "output_type": "stream",
          "name": "stdout",
          "text": [
            "Media:  12.84\n",
            "Mediana:  12\n",
            "Moda:  12\n"
          ]
        }
      ],
      "source": [
        "import statistics as st\n",
        "\n",
        "dados = [12, 15, 14, 10, 8, 12, 14, 10, 10, 15, 18, 12, 12, 14, 15, 16, 15, 10, 12]\n",
        "\n",
        "media = round(st.mean(dados),2)\n",
        "mediana = st.median(dados)\n",
        "moda = st.mode(dados)\n",
        "\n",
        "print(\"Media: \", media)\n",
        "print(\"Mediana: \", mediana)\n",
        "print(\"Moda: \", moda)"
      ]
    },
    {
      "cell_type": "code",
      "source": [
        "variancia = round(st.variance(dados),2)\n",
        "desvio_padrao = round(st.stdev(dados),2)\n",
        "\n",
        "print(\"Variancia: \", variancia)\n",
        "print(\"Desvio padrão: \", desvio_padrao)"
      ],
      "metadata": {
        "colab": {
          "base_uri": "https://localhost:8080/"
        },
        "id": "l7NAmb7Fz7p9",
        "outputId": "1f1c82da-58e7-47dc-b7fe-22882f684e07"
      },
      "execution_count": null,
      "outputs": [
        {
          "output_type": "stream",
          "name": "stdout",
          "text": [
            "Variancia:  6.58\n",
            "Desvio padrão:  2.57\n"
          ]
        }
      ]
    },
    {
      "cell_type": "code",
      "source": [
        "import numpy as np\n",
        "\n",
        "q1 = np.percentile(dados,25)\n",
        "q3 = np.percentile(dados,75)\n",
        "\n",
        "print(q1)\n",
        "print(q3)"
      ],
      "metadata": {
        "colab": {
          "base_uri": "https://localhost:8080/"
        },
        "id": "f_4n2OdH1PPX",
        "outputId": "909ae818-c4d5-402f-90ca-23baf2fa49d7"
      },
      "execution_count": null,
      "outputs": [
        {
          "output_type": "stream",
          "name": "stdout",
          "text": [
            "11.0\n",
            "15.0\n"
          ]
        }
      ]
    },
    {
      "cell_type": "code",
      "source": [
        "import numpy as np\n",
        "\n",
        "alturas = [160, 165, 170, 175, 180, 185, 190, 295, 200]\n",
        "precos = [55, 60, 68, 72, 80, 85, 90, 95, 100]\n",
        "\n",
        "correlacao = np.corrcoef(alturas, precos)[0,1]\n",
        "print(\"Correlação: \", correlacao)"
      ],
      "metadata": {
        "colab": {
          "base_uri": "https://localhost:8080/"
        },
        "id": "Rv6IaLUv1viX",
        "outputId": "adfd7e6b-735a-42d9-d19a-93f907ee1db6"
      },
      "execution_count": null,
      "outputs": [
        {
          "output_type": "stream",
          "name": "stdout",
          "text": [
            "Correlação:  0.6594920705928446\n"
          ]
        }
      ]
    }
  ]
}