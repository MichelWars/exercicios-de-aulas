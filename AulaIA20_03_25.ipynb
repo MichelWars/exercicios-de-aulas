{
  "nbformat": 4,
  "nbformat_minor": 0,
  "metadata": {
    "colab": {
      "provenance": [],
      "authorship_tag": "ABX9TyMM2V5iIDV3qa6Mug4ZuJDy",
      "include_colab_link": true
    },
    "kernelspec": {
      "name": "python3",
      "display_name": "Python 3"
    },
    "language_info": {
      "name": "python"
    }
  },
  "cells": [
    {
      "cell_type": "markdown",
      "metadata": {
        "id": "view-in-github",
        "colab_type": "text"
      },
      "source": [
        "<a href=\"https://colab.research.google.com/github/MichelWars/exercicios-de-aulas/blob/main/AulaIA20_03_25.ipynb\" target=\"_parent\"><img src=\"https://colab.research.google.com/assets/colab-badge.svg\" alt=\"Open In Colab\"/></a>"
      ]
    },
    {
      "cell_type": "code",
      "execution_count": null,
      "metadata": {
        "id": "HOvqPdMsr3w-"
      },
      "outputs": [],
      "source": [
        "nome = input(\"Digite seu nome: \")\n",
        "\n",
        "print(f'Meu nome é: {nome}')"
      ]
    },
    {
      "cell_type": "code",
      "source": [
        "idade = int(input('Digite sua idade: '))\n",
        "\n",
        "print(\"Sua idade é \", idade)"
      ],
      "metadata": {
        "id": "wINwozocweTm"
      },
      "execution_count": null,
      "outputs": []
    },
    {
      "cell_type": "code",
      "source": [
        " lista = [\"Michel\", 30]\n",
        " print(lista)\n",
        " print(lista[0])"
      ],
      "metadata": {
        "id": "LuYV9aRYwhFL"
      },
      "execution_count": null,
      "outputs": []
    },
    {
      "cell_type": "code",
      "source": [
        " minha_tupla = (1, 2, 3)\n",
        "\n",
        " minha_tupla"
      ],
      "metadata": {
        "id": "pDLyyNIQy_uQ"
      },
      "execution_count": null,
      "outputs": []
    },
    {
      "cell_type": "code",
      "source": [
        " meu_dict = {\n",
        "    \"nome\": \"João\",\n",
        "     \"idade\": 25,\n",
        "     \"cidade\": \"São Paulo\"\n",
        " }\n",
        "\n",
        " meu_dict"
      ],
      "metadata": {
        "id": "mjxp5m8b1T3r"
      },
      "execution_count": null,
      "outputs": []
    },
    {
      "cell_type": "code",
      "source": [
        "matriz = {\n",
        "    \"aluno1\": {\n",
        "        \"nome\": \"João\",\n",
        "        \"idade\": 20\n",
        "    },\n",
        "    \"aluno2\": {\n",
        "        \"nome\": \"Maria\",\n",
        "        \"idade\": 22\n",
        "    }\n",
        "}\n",
        "\n",
        "matriz[\"aluno2\"][\"nome\"]\n",
        "print(f'a aluna {matriz[\"aluno2\"][\"nome\"]} tem {matriz[\"aluno2\"][\"idade\"]} anos')"
      ],
      "metadata": {
        "id": "bSeh8lZ62471",
        "colab": {
          "base_uri": "https://localhost:8080/"
        },
        "outputId": "8773c68c-4bce-4687-c395-188d255cdefe"
      },
      "execution_count": null,
      "outputs": [
        {
          "output_type": "stream",
          "name": "stdout",
          "text": [
            "a aluna Maria tem 22 anos\n"
          ]
        }
      ]
    },
    {
      "cell_type": "code",
      "source": [],
      "metadata": {
        "id": "jFr8sH-48yWs"
      },
      "execution_count": null,
      "outputs": []
    },
    {
      "cell_type": "code",
      "source": [
        " import numpy as np\n",
        "\n",
        " array = np.array([10,30,50,50])\n",
        "\n",
        " array"
      ],
      "metadata": {
        "colab": {
          "base_uri": "https://localhost:8080/"
        },
        "id": "puGXDy4O5acK",
        "outputId": "191e0e22-b1dd-40d0-9f2c-daa45ace1ee0"
      },
      "execution_count": null,
      "outputs": [
        {
          "output_type": "execute_result",
          "data": {
            "text/plain": [
              "array([10, 30, 50, 50])"
            ]
          },
          "metadata": {},
          "execution_count": 43
        }
      ]
    },
    {
      "cell_type": "code",
      "source": [
        "import numpy as np\n",
        "matriz = np.array([\n",
        "    [1,2,3],\n",
        "    [4,5,6],\n",
        "    [7,8,9]\n",
        "])\n",
        "\n",
        "\n",
        "print(matriz[1][1])"
      ],
      "metadata": {
        "colab": {
          "base_uri": "https://localhost:8080/"
        },
        "id": "1q2xwC-B56dg",
        "outputId": "ad49c370-7390-4fc7-a35e-5ea420d69e1c"
      },
      "execution_count": null,
      "outputs": [
        {
          "output_type": "stream",
          "name": "stdout",
          "text": [
            "5\n"
          ]
        }
      ]
    }
  ]
}