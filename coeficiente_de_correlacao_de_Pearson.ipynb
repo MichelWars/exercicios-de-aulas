{
  "nbformat": 4,
  "nbformat_minor": 0,
  "metadata": {
    "colab": {
      "provenance": [],
      "authorship_tag": "ABX9TyMGcRMVW2xPSfBm2nZLip4V",
      "include_colab_link": true
    },
    "kernelspec": {
      "name": "python3",
      "display_name": "Python 3"
    },
    "language_info": {
      "name": "python"
    }
  },
  "cells": [
    {
      "cell_type": "markdown",
      "metadata": {
        "id": "view-in-github",
        "colab_type": "text"
      },
      "source": [
        "<a href=\"https://colab.research.google.com/github/MichelWars/exercicios-de-aulas/blob/main/coeficiente_de_correlacao_de_Pearson.ipynb\" target=\"_parent\"><img src=\"https://colab.research.google.com/assets/colab-badge.svg\" alt=\"Open In Colab\"/></a>"
      ]
    },
    {
      "cell_type": "code",
      "execution_count": null,
      "metadata": {
        "colab": {
          "base_uri": "https://localhost:8080/"
        },
        "id": "tGsc43qAM-2g",
        "outputId": "4f26d28d-b65b-446d-c99a-6f736c2b4660"
      },
      "outputs": [
        {
          "output_type": "stream",
          "name": "stdout",
          "text": [
            "O Valor do Coeficiente é:  0.7607674567748487\n"
          ]
        }
      ],
      "source": [
        "\"\"\"\n",
        "Relação entre Tempo de Exercício e Perda de Peso.\n",
        "\n",
        "Um estudo analisou o tempo de exercício semanal (em horas) e a perda de peso\n",
        "(em kg) de 10 indivíduos. Calcule o coeficiente de correlação de Pearson entre\n",
        "essas variáveis.\n",
        "\"\"\"\n",
        "\n",
        "import numpy as np\n",
        "\n",
        "horas= np.array([3, 4, 5, 6, 8, 10, 12, 13, 14, 15])\n",
        "quilos= np.array([1, 1.5, 2, 2.5, 3, 3.5, 4, 5, 6, 10])\n",
        "\n",
        "r = np.corrcoef(x,y)[0,1]\n",
        "\n",
        "print(\"O Valor do Coeficiente é: \", r)"
      ]
    },
    {
      "cell_type": "code",
      "source": [
        "import matplotlib.pyplot as plt\n",
        "\n",
        "plt.scatter(x, y)\n",
        "plt.xlabel(\"Horas de Estudo\")\n",
        "plt.ylabel(\"Nota da Prova\")\n",
        "plt.title(\"Correlação\")\n",
        "plt.show()\n"
      ],
      "metadata": {
        "colab": {
          "base_uri": "https://localhost:8080/",
          "height": 472
        },
        "collapsed": true,
        "id": "b7V5AYarXc8x",
        "outputId": "188051cd-c6ad-4707-9d7e-f0a91a9464a3"
      },
      "execution_count": null,
      "outputs": [
        {
          "output_type": "display_data",
          "data": {
            "text/plain": [
              "<Figure size 640x480 with 1 Axes>"
            ],
            "image/png": "[encoded data removed]"
          },
          "metadata": {}
        }
      ]
    },
    {
      "cell_type": "code",
      "source": [
        "import pandas as pd\n",
        "df = pd.DataFrame({\n",
        "    'café': [1, 2, 3, 4, 5, 6, 7, 8, 9, 10],\n",
        "    'sono': [8, 7.5, 7, 6.5, 6, 5.5, 5, 4.5, 4, 3.5]\n",
        "})\n",
        "\n",
        "r = df['café'].corr(df['sono'], method='pearson')\n",
        "\n",
        "print(r)"
      ],
      "metadata": {
        "colab": {
          "base_uri": "https://localhost:8080/"
        },
        "id": "6PF3QdBSXz2l",
        "outputId": "fbf46b5b-9783-4403-d9ac-668d54dbf30c"
      },
      "execution_count": null,
      "outputs": [
        {
          "output_type": "stream",
          "name": "stdout",
          "text": [
            "-0.9999999999999999\n"
          ]
        }
      ]
    },
    {
      "cell_type": "code",
      "source": [
        "temperatura = np.array([20, 21, 25, 29, 30, 33, 35, 34, 37, 41])\n",
        "sorvetes = np.array([100, 120, 140, 95, 150, 180, 190, 170, 197, 250])\n",
        "r = np.corrcoef(temperatura, sorvetes)[0,1]\n",
        "\n",
        "print(r)"
      ],
      "metadata": {
        "colab": {
          "base_uri": "https://localhost:8080/"
        },
        "id": "g9Rha0geeIuG",
        "outputId": "1ef25038-9cf4-41d3-f411-0c26e2402ca8"
      },
      "execution_count": null,
      "outputs": [
        {
          "output_type": "stream",
          "name": "stdout",
          "text": [
            "0.884676187899064\n"
          ]
        }
      ]
    }
  ]
}
