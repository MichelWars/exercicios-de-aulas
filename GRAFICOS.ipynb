{
  "nbformat": 4,
  "nbformat_minor": 0,
  "metadata": {
    "colab": {
      "provenance": [],
      "include_colab_link": true
    },
    "kernelspec": {
      "name": "python3",
      "display_name": "Python 3"
    },
    "language_info": {
      "name": "python"
    }
  },
  "cells": [
    {
      "cell_type": "markdown",
      "metadata": {
        "id": "view-in-github",
        "colab_type": "text"
      },
      "source": [
        "<a href=\"https://colab.research.google.com/github/MichelWars/exercicios-de-aulas/blob/main/GRAFICOS.ipynb\" target=\"_parent\"><img src=\"https://colab.research.google.com/assets/colab-badge.svg\" alt=\"Open In Colab\"/></a>"
      ]
    },
    {
      "cell_type": "markdown",
      "source": [
        "***Gráfico de colunas***"
      ],
      "metadata": {
        "id": "bQSF-Bt2Dt5a"
      }
    },
    {
      "cell_type": "code",
      "execution_count": null,
      "metadata": {
        "id": "KSRKx5Y6CoAf"
      },
      "outputs": [],
      "source": [
        "import matplotlib.pyplot as plt # apelido para a biblioteca\n",
        "\n",
        "\n",
        "# Dados para o gráfico\n",
        "categorias = ['Categoria 1', 'Categoria 2', 'Categoria 3', 'Categoria 4']\n",
        "valores = [10, 20, 15, 25]\n",
        "\n",
        "# Criar o gráfico de colunas\n",
        "plt.bar(categorias, valores)\n",
        "\n",
        "# Adicionar título e rótulos aos eixos\n",
        "plt.title('Gráfico de Colunas Simples')\n",
        "plt.xlabel('Categorias')\n",
        "plt.ylabel('Valores')\n",
        "\n",
        "# Adicionar linhas de grade\n",
        "#plt.grid(True)\n",
        "# Adicionar linhas de grade horizontais\n",
        "plt.grid(True, axis='y')\n",
        "# Adicionar linhas de grade horizontais\n",
        "#plt.grid(True, axis='x')\n",
        "\n",
        "# Mostrar o gráfico\n",
        "plt.show()\n"
      ]
    },
    {
      "cell_type": "markdown",
      "source": [
        "***Gráfico de linhas***"
      ],
      "metadata": {
        "id": "GRjtY-nmEWsS"
      }
    },
    {
      "cell_type": "code",
      "source": [
        "import matplotlib.pyplot as plt\n",
        "\n",
        "# Dados para o gráfico\n",
        "dias = ['Segunda', 'Terça', 'Quarta', 'Quinta', 'Sexta']\n",
        "valores = [5, 7, 6, 8, 7]\n",
        "\n",
        "# Criar o gráfico de linhas\n",
        "plt.plot(dias, valores)\n",
        "\n",
        "# Adicionar título e rótulos aos eixos\n",
        "plt.title('Gráfico de Linhas Simples')\n",
        "plt.xlabel('Dias da Semana')\n",
        "plt.ylabel('Valores')\n",
        "\n",
        "# Adicionar linhas de grade\n",
        "plt.grid(True)\n",
        "\n",
        "# Mostrar o gráfico\n",
        "plt.show()\n"
      ],
      "metadata": {
        "id": "yvNJqm8aDzOm"
      },
      "execution_count": null,
      "outputs": []
    },
    {
      "cell_type": "markdown",
      "source": [
        "***Gráfico de linhas com rotulo de dados***"
      ],
      "metadata": {
        "id": "EWW9WQslEc7S"
      }
    },
    {
      "cell_type": "code",
      "source": [
        "import matplotlib.pyplot as plt\n",
        "\n",
        "# Dados para o gráfico\n",
        "dias = ['Segunda', 'Terça', 'Quarta', 'Quinta', 'Sexta']\n",
        "valores = [5, 7, 6, 8, 7]\n",
        "\n",
        "# Criar o gráfico de linhas\n",
        "plt.plot(dias, valores, marker='o')  # Adiciona marcadores nos pontos\n",
        "\n",
        "# Adicionar os valores no gráfico\n",
        "for i, valor in enumerate(valores):\n",
        "    plt.text(dias[i], valor + 0.1, str(valor), ha='center', va='bottom')\n",
        "\n",
        "# Adicionar título e rótulos aos eixos\n",
        "plt.title('Gráfico de Linhas com Valores Exibidos')\n",
        "plt.xlabel('Dias da Semana')\n",
        "plt.ylabel('Valores')\n",
        "\n",
        "# Adicionar linhas de grade\n",
        "plt.grid(True)\n",
        "\n",
        "# Mostrar o gráfico\n",
        "plt.show()\n"
      ],
      "metadata": {
        "id": "9e6PXTciEPex"
      },
      "execution_count": null,
      "outputs": []
    },
    {
      "cell_type": "code",
      "source": [
        "import matplotlib.pyplot as plt\n",
        "\n",
        "# Dados para o gráfico\n",
        "regioes = ['Norte', 'Sul', 'Leste', 'Oeste']\n",
        "valores = [25, 35, 20, 20]\n",
        "\n",
        "# Cores personalizadas para cada setor\n",
        "cores = ['#FF9999', '#66B2FF', '#99FF99', '#FFCC99']\n",
        "\n",
        "# Criar o gráfico de setores\n",
        "plt.pie(valores, labels=regioes, colors=cores, autopct='%1.1f%%', startangle=140)\n",
        "\n",
        "# Adicionar título\n",
        "plt.title('Distribuição por Regiões')\n",
        "\n",
        "# Ajustar para que o gráfico fique circular\n",
        "plt.axis('equal')\n",
        "\n",
        "# Mostrar o gráfico\n",
        "plt.show()\n"
      ],
      "metadata": {
        "id": "CezqiztAEjrf"
      },
      "execution_count": null,
      "outputs": []
    },
    {
      "cell_type": "markdown",
      "source": [
        "# ***Gráfico de setores***"
      ],
      "metadata": {
        "id": "B7QTtuhZ_N3k"
      }
    },
    {
      "cell_type": "code",
      "source": [
        "import matplotlib.pyplot as plt\n",
        "\n",
        "# Dados para o gráfico de pizza\n",
        "valores = [30, 20, 45, 25]\n",
        "rotulos = ['A', 'B', 'C', 'D']\n",
        "\n",
        "# Criando o gráfico de pizza\n",
        "plt.figure(figsize=(6, 6))  # Define o tamanho da figura\n",
        "plt.pie(valores, labels=rotulos, autopct='%1.1f%%', startangle=90, colors=['lightblue', 'lightcoral', 'lightgreen', 'lightskyblue'])\n",
        "plt.title('Gráfico de Pizza')\n",
        "\n",
        "# Exibindo o gráfico\n",
        "plt.show()\n"
      ],
      "metadata": {
        "id": "gORsI_-4-NAi"
      },
      "execution_count": null,
      "outputs": []
    },
    {
      "cell_type": "markdown",
      "source": [
        "# **Gráfico de dispersão**"
      ],
      "metadata": {
        "id": "N1jkz91V_t9H"
      }
    },
    {
      "cell_type": "code",
      "source": [
        "import matplotlib.pyplot as plt\n",
        "\n",
        "# Dados para o gráfico de dispersão\n",
        "x = [10, 20, 30, 40, 50]\n",
        "y = [5, 15, 25, 35, 45]\n",
        "\n",
        "# Criando o gráfico de dispersão\n",
        "plt.figure(figsize=(6, 6))  # Define o tamanho da figura\n",
        "plt.scatter(x, y, color='blue', marker='o')\n",
        "plt.xlabel('Eixo X')\n",
        "plt.ylabel('Eixo Y')\n",
        "plt.title('Gráfico de Dispersão')\n",
        "\n",
        "# Exibindo o gráfico\n",
        "plt.show()"
      ],
      "metadata": {
        "id": "hzokOCFV_nz6"
      },
      "execution_count": null,
      "outputs": []
    },
    {
      "cell_type": "markdown",
      "source": [
        "# ***Exemplo duplicado***"
      ],
      "metadata": {
        "id": "JmDUkTU1AGkC"
      }
    },
    {
      "cell_type": "code",
      "source": [
        "import matplotlib.pyplot as plt # apelido para a biblioteca\n",
        "\n",
        "\n",
        "# Dados para o gráfico\n",
        "categorias = ['Categoria 1', 'Categoria 2', 'Categoria 3', 'Categoria 4']\n",
        "valores = [10, 20, 15, 25]\n",
        "\n",
        "# Criar o gráfico de colunas\n",
        "plt.bar(categorias, valores)\n",
        "\n",
        "# Adicionar título e rótulos aos eixos\n",
        "plt.title('Gráfico de Colunas Simples')\n",
        "plt.xlabel('Categorias')\n",
        "plt.ylabel('Valores')\n",
        "\n",
        "# Adicionar linhas de grade\n",
        "#plt.grid(True)\n",
        "# Adicionar linhas de grade horizontais\n",
        "plt.grid(True, axis='y')\n",
        "# Adicionar linhas de grade horizontais\n",
        "#plt.grid(True, axis='x')\n",
        "\n",
        "# Mostrar o gráfico\n",
        "plt.show()"
      ],
      "metadata": {
        "id": "PBYuAlh71nhg"
      },
      "execution_count": null,
      "outputs": []
    }
  ]
}