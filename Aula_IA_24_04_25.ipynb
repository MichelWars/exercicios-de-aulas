{
  "nbformat": 4,
  "nbformat_minor": 0,
  "metadata": {
    "colab": {
      "provenance": [],
      "authorship_tag": "ABX9TyNsS9AdKC49FX3mvYgcPhfB",
      "include_colab_link": true
    },
    "kernelspec": {
      "name": "python3",
      "display_name": "Python 3"
    },
    "language_info": {
      "name": "python"
    }
  },
  "cells": [
    {
      "cell_type": "markdown",
      "metadata": {
        "id": "view-in-github",
        "colab_type": "text"
      },
      "source": [
        "<a href=\"https://colab.research.google.com/github/MichelWars/exercicios-de-aulas/blob/main/Aula_IA_24_04_25.ipynb\" target=\"_parent\"><img src=\"https://colab.research.google.com/assets/colab-badge.svg\" alt=\"Open In Colab\"/></a>"
      ]
    },
    {
      "cell_type": "code",
      "execution_count": 5,
      "metadata": {
        "id": "6byi8mgwJxju"
      },
      "outputs": [],
      "source": [
        "base_treino = [\n",
        "    (\"gostei do filme\", \"bom\"),\n",
        "    (\"não gostei do filme\", \"ruim\"),\n",
        "    (\"ótimo filme\", \"bom\"),\n",
        "    (\"péssimo e longo\", \"ruim\"),\n",
        "    (\"amei a história\", \"bom\"),\n",
        "    (\"foi horrível\", \"ruim\")\n",
        "]\n"
      ]
    },
    {
      "cell_type": "code",
      "source": [
        "comentarios_teste = [\n",
        "    \"o filme foi ótimo\",\n",
        "    \"não gostei do final\",\n",
        "    \"adorei a trilha sonora\",\n",
        "    \"filme muito ruim\"\n",
        "]\n"
      ],
      "metadata": {
        "id": "G8vcJo0jKDs0"
      },
      "execution_count": 6,
      "outputs": []
    },
    {
      "cell_type": "code",
      "source": [
        "# Palavras associadas a sentimentos\n",
        "palavras_bom = [\"gostei\", \"ótimo\", \"amei\", \"adorei\", \"bom\", \"excelente\"]\n",
        "palavras_ruim = [\"não\", \"péssimo\", \"horrível\", \"ruim\", \"detestei\"]\n",
        "\n",
        "def classificar(comentario):\n",
        "    tokens = comentario.lower().split()\n",
        "    score = 0\n",
        "    for token in tokens:\n",
        "        if token in palavras_bom:\n",
        "            score += 1\n",
        "        elif token in palavras_ruim:\n",
        "            score -= 1\n",
        "    if score > 0:\n",
        "        return \"bom\"\n",
        "    elif score < 0:\n",
        "        return \"ruim\"\n",
        "    else:\n",
        "        return \"neutro\"\n",
        "\n"
      ],
      "metadata": {
        "id": "iHqVnN25KGre"
      },
      "execution_count": 7,
      "outputs": []
    },
    {
      "cell_type": "code",
      "source": [
        "# Classifica cada comentário\n",
        "resultados = [(comentario, classificar(comentario)) for comentario in comentarios_teste]\n",
        "\n",
        "# Exibe os resultados\n",
        "for c, r in resultados:\n",
        "    print(f\"'{c}' => {r}\")\n",
        "\n",
        "# Calcula porcentagem\n",
        "from collections import Counter\n",
        "\n",
        "contagem = Counter([r for _, r in resultados])\n",
        "total = sum(contagem.values())\n",
        "\n",
        "print(\"\\nResumo de Sentimentos:\")\n",
        "for sentimento, qtd in contagem.items():\n",
        "    print(f\"{sentimento.capitalize()}: {qtd / total * 100:.2f}%\")"
      ],
      "metadata": {
        "colab": {
          "base_uri": "https://localhost:8080/"
        },
        "id": "nZ6oIJMtKJ2M",
        "outputId": "0f8f04be-3f31-4278-d051-f835f13abc9c"
      },
      "execution_count": 8,
      "outputs": [
        {
          "output_type": "stream",
          "name": "stdout",
          "text": [
            "'o filme foi ótimo' => bom\n",
            "'não gostei do final' => neutro\n",
            "'adorei a trilha sonora' => bom\n",
            "'filme muito ruim' => ruim\n",
            "\n",
            "Resumo de Sentimentos:\n",
            "Bom: 50.00%\n",
            "Neutro: 25.00%\n",
            "Ruim: 25.00%\n"
          ]
        }
      ]
    },
    {
      "cell_type": "code",
      "source": [
        "# Comentários de treino e seus respectivos sentimentos\n",
        "comentarios_treino = [\n",
        "    \"gostei do filme\",\n",
        "    \"não gostei do filme\",\n",
        "    \"ótimo filme\",\n",
        "    \"péssimo e longo\",\n",
        "    \"amei a história\",\n",
        "    \"foi horrível\"\n",
        "]\n",
        "\n",
        "sentimentos_treino = [\n",
        "    \"bom\",\n",
        "    \"ruim\",\n",
        "    \"bom\",\n",
        "    \"ruim\",\n",
        "    \"bom\",\n",
        "    \"ruim\"\n",
        "]\n",
        "\n"
      ],
      "metadata": {
        "id": "5SrNg6hVNbsd"
      },
      "execution_count": 9,
      "outputs": []
    },
    {
      "cell_type": "code",
      "source": [
        "\n",
        "comentarios_teste = [\n",
        "    \"o filme foi ótimo\",\n",
        "    \"não gostei do final\",\n",
        "    \"adorei a trilha sonora\",\n",
        "    \"filme muito ruim\"\n",
        "]\n",
        "\n"
      ],
      "metadata": {
        "id": "ecV2rEBWNcoR"
      },
      "execution_count": 10,
      "outputs": []
    },
    {
      "cell_type": "code",
      "source": [
        "\n",
        "from sklearn.feature_extraction.text import CountVectorizer\n",
        "from sklearn.naive_bayes import MultinomialNB\n",
        "from sklearn.pipeline import make_pipeline\n",
        "\n",
        "# Cria o pipeline: vetorização das palavras + classificador Naive Bayes\n",
        "modelo = make_pipeline(CountVectorizer(), MultinomialNB())\n",
        "\n",
        "# Treina o modelo com os dados de treino\n",
        "modelo.fit(comentarios_treino, sentimentos_treino)\n",
        "\n",
        "# Aplica o modelo nos comentários de teste\n",
        "previsoes = modelo.predict(comentarios_teste)\n",
        "\n",
        "# Exibe os resultados\n",
        "for comentario, sentimento in zip(comentarios_teste, previsoes):\n",
        "    print(f\"{comentario} => {sentimento}\")\n",
        "\n"
      ],
      "metadata": {
        "colab": {
          "base_uri": "https://localhost:8080/"
        },
        "id": "ZXhzTXg4Ngf9",
        "outputId": "c4b6c7f0-4898-4777-94ea-6ef419fb051b"
      },
      "execution_count": 11,
      "outputs": [
        {
          "output_type": "stream",
          "name": "stdout",
          "text": [
            "o filme foi ótimo => bom\n",
            "não gostei do final => ruim\n",
            "adorei a trilha sonora => bom\n",
            "filme muito ruim => bom\n"
          ]
        }
      ]
    },
    {
      "cell_type": "code",
      "source": [
        "\n",
        "from collections import Counter\n",
        "\n",
        "# Conta quantos comentários foram classificados em cada categoria\n",
        "contagem = Counter(previsoes)\n",
        "total = sum(contagem.values())\n",
        "\n",
        "# Calcula e mostra a porcentagem\n",
        "print(\"\\nResumo de Sentimentos:\")\n",
        "for sentimento, qtd in contagem.items():\n",
        "    percentual = (qtd / total) * 100\n",
        "    print(f\"{sentimento.capitalize()}: {percentual:.2f}%\")\n",
        "\n"
      ],
      "metadata": {
        "colab": {
          "base_uri": "https://localhost:8080/"
        },
        "id": "-FYLVdctNkJG",
        "outputId": "66cd7b53-426b-4186-8eab-78befa377d63"
      },
      "execution_count": 12,
      "outputs": [
        {
          "output_type": "stream",
          "name": "stdout",
          "text": [
            "\n",
            "Resumo de Sentimentos:\n",
            "Bom: 75.00%\n",
            "Ruim: 25.00%\n"
          ]
        }
      ]
    }
  ]
}