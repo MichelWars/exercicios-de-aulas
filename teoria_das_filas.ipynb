{
  "nbformat": 4,
  "nbformat_minor": 0,
  "metadata": {
    "colab": {
      "provenance": [],
      "authorship_tag": "ABX9TyMD5JdNQguRS1RC1DTJUz9h",
      "include_colab_link": true
    },
    "kernelspec": {
      "name": "python3",
      "display_name": "Python 3"
    },
    "language_info": {
      "name": "python"
    }
  },
  "cells": [
    {
      "cell_type": "markdown",
      "metadata": {
        "id": "view-in-github",
        "colab_type": "text"
      },
      "source": [
        "<a href=\"https://colab.research.google.com/github/MichelWars/exercicios-de-aulas/blob/main/teoria_das_filas.ipynb\" target=\"_parent\"><img src=\"https://colab.research.google.com/assets/colab-badge.svg\" alt=\"Open In Colab\"/></a>"
      ]
    },
    {
      "cell_type": "code",
      "execution_count": null,
      "metadata": {
        "colab": {
          "base_uri": "https://localhost:8080/"
        },
        "id": "b65BXmzI_-LP",
        "outputId": "e4727e97-bc57-4309-97f6-03161c1fd3fb"
      },
      "outputs": [
        {
          "output_type": "stream",
          "name": "stdout",
          "text": [
            "5.0\n"
          ]
        }
      ],
      "source": [
        "lambda_ = 20 #taxa media de chegada de clientes\n",
        "mu = 25 # taxa media de atendimento\n",
        "ts = 0.3 #tempo medio de permanencia\n",
        "\n",
        "ta= 1/lambda_ #tempo de atendimento\n",
        "tf = ts -ta #tempo na fila\n",
        "\n",
        "nf = lambda_ *tf\n",
        "\n",
        "print(nf)"
      ]
    },
    {
      "cell_type": "code",
      "source": [
        "ns = lambda_ * ts\n",
        "na = ns - nf\n",
        "\n",
        "print(\"O Numero medio de cliente no sistema é \", ns)\n",
        "print(\"O numero medio de clientes sendos atendindo é \", na)"
      ],
      "metadata": {
        "colab": {
          "base_uri": "https://localhost:8080/"
        },
        "id": "7xNOqHeoBJ3G",
        "outputId": "99feb47b-ad6a-44c1-f236-66efd634bf12"
      },
      "execution_count": null,
      "outputs": [
        {
          "output_type": "stream",
          "name": "stdout",
          "text": [
            "O Numero medio de cliente no sistema é  6.0\n",
            "O numero medio de clientes sendos atendindo é  1.0\n"
          ]
        }
      ]
    },
    {
      "cell_type": "code",
      "source": [
        "m = 1\n",
        "rho = lambda_ / (m*mu)\n",
        "\n",
        "print(\"a taxa de utilização deste sistema é: \" , rho)"
      ],
      "metadata": {
        "colab": {
          "base_uri": "https://localhost:8080/"
        },
        "id": "14aMOjvHB1bJ",
        "outputId": "570970d9-294c-4261-cd72-5f41aed827b3"
      },
      "execution_count": null,
      "outputs": [
        {
          "output_type": "stream",
          "name": "stdout",
          "text": [
            "a taxa de utilização deste sistema é:  0.8\n"
          ]
        }
      ]
    },
    {
      "cell_type": "code",
      "source": [],
      "metadata": {
        "id": "mxjaMVcj-KKf"
      },
      "execution_count": null,
      "outputs": []
    }
  ]
}