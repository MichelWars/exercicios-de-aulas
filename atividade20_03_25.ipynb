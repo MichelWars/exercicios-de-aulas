{
  "nbformat": 4,
  "nbformat_minor": 0,
  "metadata": {
    "colab": {
      "provenance": [],
      "authorship_tag": "ABX9TyMPG4qPAPZk8qJ+SwpbGPkO",
      "include_colab_link": true
    },
    "kernelspec": {
      "name": "python3",
      "display_name": "Python 3"
    },
    "language_info": {
      "name": "python"
    }
  },
  "cells": [
    {
      "cell_type": "markdown",
      "metadata": {
        "id": "view-in-github",
        "colab_type": "text"
      },
      "source": [
        "<a href=\"https://colab.research.google.com/github/MichelWars/exercicios-de-aulas/blob/main/atividade20_03_25.ipynb\" target=\"_parent\"><img src=\"https://colab.research.google.com/assets/colab-badge.svg\" alt=\"Open In Colab\"/></a>"
      ]
    },
    {
      "cell_type": "code",
      "execution_count": null,
      "metadata": {
        "colab": {
          "base_uri": "https://localhost:8080/"
        },
        "id": "wUjnwBKbMLI-",
        "outputId": "ab8e1151-fb3b-4591-c03d-7b772f981ef0"
      },
      "outputs": [
        {
          "output_type": "stream",
          "name": "stdout",
          "text": [
            "SOMA: 50\n",
            "MÉDIA: 10.0\n",
            "MAIOR: 20\n",
            "MENOR: 2\n"
          ]
        }
      ],
      "source": [
        "import numpy as np\n",
        "\n",
        "numeros = np.array([2,3,10,15,20])\n",
        "\n",
        "soma = np.sum(numeros)\n",
        "media = np.mean(numeros)\n",
        "maior = np.max(numeros)\n",
        "menor = np.min(numeros)\n",
        "\n",
        "\n",
        "print(f\"SOMA: {soma}\")\n",
        "print(f\"MÉDIA: {media}\")\n",
        "print(f\"MAIOR: {maior}\")\n",
        "print(f\"MENOR: {menor}\")"
      ]
    }
  ]
}