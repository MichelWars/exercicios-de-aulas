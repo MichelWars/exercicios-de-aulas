{
  "nbformat": 4,
  "nbformat_minor": 0,
  "metadata": {
    "colab": {
      "provenance": [],
      "include_colab_link": true
    },
    "kernelspec": {
      "name": "python3",
      "display_name": "Python 3"
    },
    "language_info": {
      "name": "python"
    }
  },
  "cells": [
    {
      "cell_type": "markdown",
      "metadata": {
        "id": "view-in-github",
        "colab_type": "text"
      },
      "source": [
        "<a href=\"https://colab.research.google.com/github/MichelWars/exercicios-de-aulas/blob/main/DESVIO_PADRAO.ipynb\" target=\"_parent\"><img src=\"https://colab.research.google.com/assets/colab-badge.svg\" alt=\"Open In Colab\"/></a>"
      ]
    },
    {
      "cell_type": "code",
      "execution_count": null,
      "metadata": {
        "id": "m1I3rynLQxZs"
      },
      "outputs": [],
      "source": [
        "# Importando as bibliotecas necessárias\n",
        "import pandas as pd\n",
        "from statistics import mean, median, mode, stdev\n",
        "import matplotlib.pyplot as plt\n",
        "\n",
        "# Lista de notas dos 20 alunos\n",
        "notas = [8.5, 9.0, 7.8, 9.2, 8.8, 7.6, 9.5, 8.9, 8.4, 9.1,\n",
        "         8.7, 8.2, 7.9, 8.5, 8.8, 9.3, 7.7, 8.4, 8.0, 9.0]\n",
        "\n",
        "# Criando uma tabela com as notas\n",
        "df = pd.DataFrame({'Aluno': range(1, len(notas) + 1), 'Nota': notas})\n",
        "print(\"Tabela de Notas dos Alunos:\")\n",
        "print(df)\n",
        "\n",
        "# Calculando média, mediana, moda e desvio padrão\n",
        "media = mean(notas)\n",
        "mediana = median(notas)\n",
        "moda = mode(notas)\n",
        "desvio_padrao = stdev(notas)\n",
        "\n",
        "# Exibindo os resultados\n",
        "print(\"\\nEstatísticas das Notas:\")\n",
        "print(f\"Média: {media:.2f}\")\n",
        "print(f\"Mediana: {mediana}\")\n",
        "print(f\"Moda: {moda}\")\n",
        "print(f\"Desvio Padrão: {desvio_padrao:.2f}\")\n",
        "\n",
        "# Plotando o gráfico de barras para as notas\n",
        "plt.figure(figsize=(10, 6))  # Define o tamanho do gráfico\n",
        "plt.bar(df['Aluno'], df['Nota'], color='skyblue', edgecolor='black')\n",
        "plt.axhline(y=media, color='r', linestyle='-', label=f'Média: {media:.2f}')\n",
        "plt.axhline(y=mediana, color='g', linestyle='--', label=f'Mediana: {mediana}')\n",
        "plt.axhline(y=moda, color='purple', linestyle='-.', label=f'Moda: {moda}')\n",
        "plt.title('Notas dos Alunos')\n",
        "plt.xlabel('Aluno')\n",
        "plt.ylabel('Nota')\n",
        "plt.legend()\n",
        "plt.show()\n"
      ]
    },
    {
      "cell_type": "markdown",
      "source": [
        "***com box plot***"
      ],
      "metadata": {
        "id": "3x7whO0SR1ac"
      }
    },
    {
      "cell_type": "code",
      "source": [
        "# Importando as bibliotecas necessárias\n",
        "import pandas as pd\n",
        "from statistics import mean, median, mode, stdev\n",
        "import matplotlib.pyplot as plt\n",
        "\n",
        "# Lista de notas dos 20 alunos\n",
        "notas = [85, 90, 78, 92, 88, 76, 95, 89, 84, 91,\n",
        "         87, 82, 79, 85, 88, 93, 77, 84, 80, 90]\n",
        "\n",
        "# Criando uma tabela com as notas\n",
        "df = pd.DataFrame({'Aluno': range(1, len(notas) + 1), 'Nota': notas})\n",
        "print(\"Tabela de Notas dos Alunos:\")\n",
        "print(df)\n",
        "\n",
        "# Calculando média, mediana, moda e desvio padrão\n",
        "media = mean(notas)\n",
        "mediana = median(notas)\n",
        "moda = mode(notas)\n",
        "desvio_padrao = stdev(notas)\n",
        "\n",
        "# Exibindo os resultados\n",
        "print(\"\\nEstatísticas das Notas:\")\n",
        "print(f\"Média: {media:.2f}\")\n",
        "print(f\"Mediana: {mediana:.2f}\")\n",
        "print(f\"Moda: {moda}\")\n",
        "print(f\"Desvio Padrão: {desvio_padrao:.2f}\")\n",
        "\n",
        "# Plotando o gráfico de barras para as notas\n",
        "plt.figure(figsize=(10, 6))  # Define o tamanho do gráfico\n",
        "plt.bar(df['Aluno'], df['Nota'], color='skyblue', edgecolor='black')\n",
        "plt.axhline(y=media, color='r', linestyle='-', label=f'Média: {media:.2f}')\n",
        "plt.axhline(y=mediana, color='g', linestyle='--', label=f'Mediana: {mediana}')\n",
        "plt.axhline(y=moda, color='purple', linestyle='-.', label=f'Moda: {moda}')\n",
        "plt.title('Notas dos Alunos')\n",
        "plt.xlabel('Aluno')\n",
        "plt.ylabel('Nota')\n",
        "plt.legend()\n",
        "plt.show()\n",
        "\n",
        "# Plotando o boxplot das notas\n",
        "plt.figure(figsize=(8, 6))\n",
        "plt.boxplot(notas, vert=False, patch_artist=True,\n",
        "            boxprops=dict(facecolor='lightpink', color='black'),\n",
        "            whiskerprops=dict(color='black'),\n",
        "            capprops=dict(color='black'),\n",
        "            medianprops=dict(color='red'))\n",
        "plt.title('Boxplot das Notas dos Alunos')\n",
        "plt.xlabel('Nota')\n",
        "plt.show()\n"
      ],
      "metadata": {
        "id": "cOzyB41GRXrw"
      },
      "execution_count": null,
      "outputs": []
    }
  ]
}