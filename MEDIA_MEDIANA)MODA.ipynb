{
  "nbformat": 4,
  "nbformat_minor": 0,
  "metadata": {
    "colab": {
      "provenance": [],
      "include_colab_link": true
    },
    "kernelspec": {
      "name": "python3",
      "display_name": "Python 3"
    },
    "language_info": {
      "name": "python"
    }
  },
  "cells": [
    {
      "cell_type": "markdown",
      "metadata": {
        "id": "view-in-github",
        "colab_type": "text"
      },
      "source": [
        "<a href=\"https://colab.research.google.com/github/MichelWars/exercicios-de-aulas/blob/main/MEDIA_MEDIANA)MODA.ipynb\" target=\"_parent\"><img src=\"https://colab.research.google.com/assets/colab-badge.svg\" alt=\"Open In Colab\"/></a>"
      ]
    },
    {
      "cell_type": "code",
      "execution_count": null,
      "metadata": {
        "id": "99tqTM83wQSG"
      },
      "outputs": [],
      "source": [
        "import numpy as np\n",
        "import matplotlib.pyplot as plt\n",
        "from scipy import stats\n",
        "from collections import Counter\n",
        "from statistics import mode\n",
        "\n",
        "\n",
        "\n",
        "# Conjunto de dados\n",
        "notas = [85, 92, 88, 78, 90, 88, 82, 95, 78, 88]\n",
        "\n",
        "# Calculando a média\n",
        "media = np.mean(notas)\n",
        "\n",
        "# Calculando a mediana\n",
        "mediana = np.median(notas)\n",
        "\n",
        "# Calculando a moda\n",
        "#moda = stats.mode(notas)[0][0]\n",
        "moda = mode(notas)\n",
        "#moda = Counter(notas).most_common(1)[0][0]\n",
        "\n",
        "\n",
        "# Imprimindo os resultados\n",
        "print(\"Média:\", media)\n",
        "print(\"Mediana:\", mediana)\n",
        "print(\"Moda:\", moda)\n",
        "\n",
        "# Criando um histograma para visualização dos dados\n",
        "plt.hist(notas, bins=10, color='skyblue', edgecolor='black')\n",
        "plt.xlabel('Notas')\n",
        "plt.ylabel('Frequência')\n",
        "plt.title('Distribuição das Notas Finais da Turma')\n",
        "plt.axvline(media, color='red', linestyle='dashed', linewidth=1, label='Média')\n",
        "plt.axvline(mediana, color='green', linestyle='dashed', linewidth=1, label='Mediana')\n",
        "plt.axvline(moda, color='orange', linestyle='dashed', linewidth=1, label='Moda')\n",
        "plt.legend()\n",
        "plt.show()\n"
      ]
    }
  ]
}