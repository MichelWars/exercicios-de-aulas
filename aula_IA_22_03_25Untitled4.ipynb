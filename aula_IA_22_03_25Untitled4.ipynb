{
  "nbformat": 4,
  "nbformat_minor": 0,
  "metadata": {
    "colab": {
      "provenance": [],
      "authorship_tag": "ABX9TyPOsuVfpmUTrOZ5324khjRe",
      "include_colab_link": true
    },
    "kernelspec": {
      "name": "python3",
      "display_name": "Python 3"
    },
    "language_info": {
      "name": "python"
    }
  },
  "cells": [
    {
      "cell_type": "markdown",
      "metadata": {
        "id": "view-in-github",
        "colab_type": "text"
      },
      "source": [
        "<a href=\"https://colab.research.google.com/github/MichelWars/exercicios-de-aulas/blob/main/aula_IA_22_03_25Untitled4.ipynb\" target=\"_parent\"><img src=\"https://colab.research.google.com/assets/colab-badge.svg\" alt=\"Open In Colab\"/></a>"
      ]
    },
    {
      "cell_type": "code",
      "execution_count": 1,
      "metadata": {
        "colab": {
          "base_uri": "https://localhost:8080/"
        },
        "id": "v7g2I6srLJfb",
        "outputId": "7adcf56c-2783-42cb-a321-7205312d0d96"
      },
      "outputs": [
        {
          "output_type": "stream",
          "name": "stdout",
          "text": [
            "Collecting PyPDF2\n",
            "  Downloading pypdf2-3.0.1-py3-none-any.whl.metadata (6.8 kB)\n",
            "Downloading pypdf2-3.0.1-py3-none-any.whl (232 kB)\n",
            "\u001b[?25l   \u001b[90m━━━━━━━━━━━━━━━━━━━━━━━━━━━━━━━━━━━━━━━━\u001b[0m \u001b[32m0.0/232.6 kB\u001b[0m \u001b[31m?\u001b[0m eta \u001b[36m-:--:--\u001b[0m\r\u001b[2K   \u001b[90m━━━━━━━━━━━━━━━━━━━━━━━━━━━━━━━━━━━━━━━━\u001b[0m \u001b[32m232.6/232.6 kB\u001b[0m \u001b[31m11.5 MB/s\u001b[0m eta \u001b[36m0:00:00\u001b[0m\n",
            "\u001b[?25hInstalling collected packages: PyPDF2\n",
            "Successfully installed PyPDF2-3.0.1\n"
          ]
        }
      ],
      "source": [
        "\n",
        "# Instalação do pacote necessário\n",
        "!pip install PyPDF2\n",
        "\n",
        "# Importação de pacotes\n",
        "import requests           # Usado para fazer requisições HTTP (baixar arquivos ou chamar APIs)\n",
        "import PyPDF2             # Usado para ler arquivos PDF\n",
        "import pickle             # Usado para salvar/ler dados em cache no formato binário\n",
        "import os                 # Permite interagir com o sistema de arquivos (verificar se arquivos existem)\n",
        "from io import BytesIO    # Permite manipular arquivos em memória (como se fossem arquivos físicos)\n",
        "\n",
        "\n"
      ]
    },
    {
      "cell_type": "code",
      "source": [
        "\n",
        "# --- Configurações --- #\n",
        "OPENROUTER_API_KEY = \"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\"  # Insira sua chave da OpenRouter\n",
        "PDF_PATH = \"/content/seuarquivo.pdf\"  # Pode ser URL ou caminho local\n",
        "CACHE_FILE = \"pdf_cache.pkl\"\n",
        "MODEL_NAME = \"mistralai/mistral-7b-instruct\"\n",
        "\n"
      ],
      "metadata": {
        "id": "LGi2yFM8Vd4D"
      },
      "execution_count": 5,
      "outputs": []
    },
    {
      "cell_type": "code",
      "source": [
        "\n",
        "def carregar_pdf_com_cache():\n",
        "    if os.path.exists(CACHE_FILE):\n",
        "        print(\"Carregando texto do cache...\")\n",
        "        with open(CACHE_FILE, 'rb') as f:\n",
        "            return pickle.load(f)\n",
        "\n",
        "    print(\"Processando PDF pela primeira vez...\")\n",
        "\n",
        "    if PDF_PATH.startswith('http'):\n",
        "        response = requests.get(PDF_PATH)\n",
        "        arquivo_pdf = BytesIO(response.content)\n",
        "    else:\n",
        "        arquivo_pdf = open(PDF_PATH, 'rb')\n",
        "\n",
        "    leitor = PyPDF2.PdfReader(arquivo_pdf)\n",
        "    texto = \"\\n\".join([pagina.extract_text() for pagina in leitor.pages])\n",
        "    blocos = [texto[i:i+5000] for i in range(0, len(texto), 5000)]\n",
        "\n",
        "    with open(CACHE_FILE, 'wb') as f:\n",
        "        pickle.dump(blocos, f)\n",
        "\n",
        "    return blocos\n",
        "\n"
      ],
      "metadata": {
        "id": "KFvYKSIHWFag"
      },
      "execution_count": 7,
      "outputs": []
    },
    {
      "cell_type": "code",
      "source": [
        "\n",
        "blocos_texto = carregar_pdf_com_cache()\n"
      ],
      "metadata": {
        "colab": {
          "base_uri": "https://localhost:8080/"
        },
        "id": "Sz9A9yRxWKOa",
        "outputId": "5ba8c0e5-c1b6-41a4-e77f-1f49e9113a18"
      },
      "execution_count": 8,
      "outputs": [
        {
          "output_type": "stream",
          "name": "stdout",
          "text": [
            "Carregando texto do cache...\n"
          ]
        }
      ]
    },
    {
      "cell_type": "code",
      "source": [
        "\n",
        "def perguntar_sobre_pdf(pergunta):\n",
        "    contexto = blocos_texto[0][:10000]\n",
        "\n",
        "    prompt = f\"\"\"\n",
        "    [DOCUMENTO]:\n",
        "    {contexto}\n",
        "\n",
        "    [INSTRUÇÕES]:\n",
        "    - Responda em português, baseado no documento acima.\n",
        "    - Se não souber, diga \"Não encontrado no PDF.\"\n",
        "\n",
        "    [PERGUNTA]: {pergunta}\n",
        "    \"\"\"\n",
        "\n",
        "    headers = {\n",
        "        \"Authorization\": f\"Bearer {OPENROUTER_API_KEY}\",\n",
        "        \"Content-Type\": \"application/json\",\n",
        "        \"HTTP-Referer\": \"https://github.com/seu_usuario\",\n",
        "        \"X-Title\": \"Assistente de PDF\"\n",
        "    }\n",
        "\n",
        "    body = {\n",
        "        \"model\": MODEL_NAME,\n",
        "        \"messages\": [\n",
        "            {\"role\": \"system\", \"content\": \"Você é um assistente que responde perguntas sobre documentos.\"},\n",
        "            {\"role\": \"user\", \"content\": prompt}\n",
        "        ],\n",
        "        \"max_tokens\": 500\n",
        "    }\n",
        "\n",
        "    response = requests.post(\n",
        "        \"https://openrouter.ai/api/v1/chat/completions\",\n",
        "        headers=headers,\n",
        "        json=body\n",
        "    )\n",
        "\n",
        "    return response.json()[\"choices\"][0][\"message\"][\"content\"]\n",
        "\n"
      ],
      "metadata": {
        "id": "mCuvpuAFWOLl"
      },
      "execution_count": 9,
      "outputs": []
    },
    {
      "cell_type": "code",
      "source": [
        "\n",
        "while True:\n",
        "    pergunta = input(\"Digite a pergunta , ou Sair: \")\n",
        "    if 'Sair' not in pergunta:\n",
        "        print(perguntar_sobre_pdf(pergunta))\n",
        "    else:\n",
        "        print('Sair')\n",
        "        break\n",
        "\n"
      ],
      "metadata": {
        "colab": {
          "base_uri": "https://localhost:8080/",
          "height": 547
        },
        "id": "VU5mc5yAWcWT",
        "outputId": "a550040a-9d9c-40c2-aa1e-58249e2bfdd5"
      },
      "execution_count": 10,
      "outputs": [
        {
          "output_type": "stream",
          "name": "stdout",
          "text": [
            "Digite a pergunta , ou Sair: Que horas são?\n",
            " A hora não é informada no PDF.\n",
            "Digite a pergunta , ou Sair: Qual o modo de preparo?\n",
            " O modo de preparo do bolinho de cenoura, segundo o documento, é o seguinte:\n",
            "1. Bater no liquidificador as cenouras, ovos e o óleo.\n",
            "2. Transferir o conteúdo para a batedeira.\n",
            "3. Adicionar o açúcar, farinha de trigo e por último o fermento.\n",
            "4. Untar a assadeira e assar em forno pré-aquecido.\n",
            "5. Para a calda, levar ao fogo a margarina e o achocolatado para derreter e engrossar.\n",
            "6. Despejar sobre o bolo quente.\n"
          ]
        },
        {
          "output_type": "error",
          "ename": "KeyboardInterrupt",
          "evalue": "Interrupted by user",
          "traceback": [
            "\u001b[0;31m---------------------------------------------------------------------------\u001b[0m",
            "\u001b[0;31mKeyboardInterrupt\u001b[0m                         Traceback (most recent call last)",
            "\u001b[0;32m<ipython-input-10-34c38b09589f>\u001b[0m in \u001b[0;36m<cell line: 0>\u001b[0;34m()\u001b[0m\n\u001b[1;32m      1\u001b[0m \u001b[0;32mwhile\u001b[0m \u001b[0;32mTrue\u001b[0m\u001b[0;34m:\u001b[0m\u001b[0;34m\u001b[0m\u001b[0;34m\u001b[0m\u001b[0m\n\u001b[0;32m----> 2\u001b[0;31m     \u001b[0mpergunta\u001b[0m \u001b[0;34m=\u001b[0m \u001b[0minput\u001b[0m\u001b[0;34m(\u001b[0m\u001b[0;34m\"Digite a pergunta , ou Sair: \"\u001b[0m\u001b[0;34m)\u001b[0m\u001b[0;34m\u001b[0m\u001b[0;34m\u001b[0m\u001b[0m\n\u001b[0m\u001b[1;32m      3\u001b[0m     \u001b[0;32mif\u001b[0m \u001b[0;34m'Sair'\u001b[0m \u001b[0;32mnot\u001b[0m \u001b[0;32min\u001b[0m \u001b[0mpergunta\u001b[0m\u001b[0;34m:\u001b[0m\u001b[0;34m\u001b[0m\u001b[0;34m\u001b[0m\u001b[0m\n\u001b[1;32m      4\u001b[0m         \u001b[0mprint\u001b[0m\u001b[0;34m(\u001b[0m\u001b[0mperguntar_sobre_pdf\u001b[0m\u001b[0;34m(\u001b[0m\u001b[0mpergunta\u001b[0m\u001b[0;34m)\u001b[0m\u001b[0;34m)\u001b[0m\u001b[0;34m\u001b[0m\u001b[0;34m\u001b[0m\u001b[0m\n\u001b[1;32m      5\u001b[0m     \u001b[0;32melse\u001b[0m\u001b[0;34m:\u001b[0m\u001b[0;34m\u001b[0m\u001b[0;34m\u001b[0m\u001b[0m\n",
            "\u001b[0;32m/usr/local/lib/python3.11/dist-packages/ipykernel/kernelbase.py\u001b[0m in \u001b[0;36mraw_input\u001b[0;34m(self, prompt)\u001b[0m\n\u001b[1;32m   1175\u001b[0m                 \u001b[0;34m\"raw_input was called, but this frontend does not support input requests.\"\u001b[0m\u001b[0;34m\u001b[0m\u001b[0;34m\u001b[0m\u001b[0m\n\u001b[1;32m   1176\u001b[0m             )\n\u001b[0;32m-> 1177\u001b[0;31m         return self._input_request(\n\u001b[0m\u001b[1;32m   1178\u001b[0m             \u001b[0mstr\u001b[0m\u001b[0;34m(\u001b[0m\u001b[0mprompt\u001b[0m\u001b[0;34m)\u001b[0m\u001b[0;34m,\u001b[0m\u001b[0;34m\u001b[0m\u001b[0;34m\u001b[0m\u001b[0m\n\u001b[1;32m   1179\u001b[0m             \u001b[0mself\u001b[0m\u001b[0;34m.\u001b[0m\u001b[0m_parent_ident\u001b[0m\u001b[0;34m[\u001b[0m\u001b[0;34m\"shell\"\u001b[0m\u001b[0;34m]\u001b[0m\u001b[0;34m,\u001b[0m\u001b[0;34m\u001b[0m\u001b[0;34m\u001b[0m\u001b[0m\n",
            "\u001b[0;32m/usr/local/lib/python3.11/dist-packages/ipykernel/kernelbase.py\u001b[0m in \u001b[0;36m_input_request\u001b[0;34m(self, prompt, ident, parent, password)\u001b[0m\n\u001b[1;32m   1217\u001b[0m             \u001b[0;32mexcept\u001b[0m \u001b[0mKeyboardInterrupt\u001b[0m\u001b[0;34m:\u001b[0m\u001b[0;34m\u001b[0m\u001b[0;34m\u001b[0m\u001b[0m\n\u001b[1;32m   1218\u001b[0m                 \u001b[0;31m# re-raise KeyboardInterrupt, to truncate traceback\u001b[0m\u001b[0;34m\u001b[0m\u001b[0;34m\u001b[0m\u001b[0m\n\u001b[0;32m-> 1219\u001b[0;31m                 \u001b[0;32mraise\u001b[0m \u001b[0mKeyboardInterrupt\u001b[0m\u001b[0;34m(\u001b[0m\u001b[0;34m\"Interrupted by user\"\u001b[0m\u001b[0;34m)\u001b[0m \u001b[0;32mfrom\u001b[0m \u001b[0;32mNone\u001b[0m\u001b[0;34m\u001b[0m\u001b[0;34m\u001b[0m\u001b[0m\n\u001b[0m\u001b[1;32m   1220\u001b[0m             \u001b[0;32mexcept\u001b[0m \u001b[0mException\u001b[0m\u001b[0;34m:\u001b[0m\u001b[0;34m\u001b[0m\u001b[0;34m\u001b[0m\u001b[0m\n\u001b[1;32m   1221\u001b[0m                 \u001b[0mself\u001b[0m\u001b[0;34m.\u001b[0m\u001b[0mlog\u001b[0m\u001b[0;34m.\u001b[0m\u001b[0mwarning\u001b[0m\u001b[0;34m(\u001b[0m\u001b[0;34m\"Invalid Message:\"\u001b[0m\u001b[0;34m,\u001b[0m \u001b[0mexc_info\u001b[0m\u001b[0;34m=\u001b[0m\u001b[0;32mTrue\u001b[0m\u001b[0;34m)\u001b[0m\u001b[0;34m\u001b[0m\u001b[0;34m\u001b[0m\u001b[0m\n",
            "\u001b[0;31mKeyboardInterrupt\u001b[0m: Interrupted by user"
          ]
        }
      ]
    },
    {
      "cell_type": "code",
      "source": [],
      "metadata": {
        "id": "vSi8aCrTWdv2"
      },
      "execution_count": null,
      "outputs": []
    }
  ]
}